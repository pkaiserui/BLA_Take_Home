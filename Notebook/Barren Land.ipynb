{
 "cells": [
  {
   "cell_type": "code",
   "execution_count": 53,
   "metadata": {},
   "outputs": [],
   "source": [
    "import matplotlib.colors as colors\n",
    "import matplotlib.pyplot as plt\n",
    "import numpy as np\n",
    "from collections import deque\n",
    "from time import time\n"
   ]
  },
  {
   "cell_type": "code",
   "execution_count": 54,
   "metadata": {},
   "outputs": [],
   "source": [
    "test1 = [[0, 292, 399, 307]]\n",
    "test2 = [[48, 192, 351, 207],\n",
    "        [48, 392, 351, 407],\n",
    "        [120, 52, 135, 547],\n",
    "        [260, 52, 275, 547]]\n"
   ]
  },
  {
   "cell_type": "code",
   "execution_count": 58,
   "metadata": {},
   "outputs": [],
   "source": [
    "\n",
    "class BarrenLandBFS:\n",
    "    def __init__(self, coord_arr: list, x_max=400, y_max=600):\n",
    "        \"\"\"\n",
    "        Take a list of coordinates. Each coordinate is a rectangle\n",
    "        The first two integers are the coordinates of the bottom \n",
    "        left corner in the given rectangle, and the last two \n",
    "        integers are the coordinates of the top right corner.\n",
    "        \n",
    "        ymax is the height of the field in meters\n",
    "        xmax is the height of the field in meters\n",
    "        \"\"\"\n",
    "        self.x_max = x_max\n",
    "        self.y_max = y_max\n",
    "        # Ceate an empty field\n",
    "        self.land = np.zeros((y_max, x_max))\n",
    "        # Parse coordinates\n",
    "        self.coord_list = self.build_coord_list(coord_arr)\n",
    "        # Fill the field with the barren locations\n",
    "        self.populate_barren_land()\n",
    "        \n",
    "\n",
    "    def find_fertile_areas(self) -> list:\n",
    "        \"\"\"\n",
    "        Starts at 0,0 and goes row by row until it has \n",
    "        found fertile land then BFS starts. It will continue\n",
    "        until every spot has been searched return the results\n",
    "        \"\"\"\n",
    "        x, y = 0, 0\n",
    "        results = []\n",
    "\n",
    "        while x < self.x_max and y < self.y_max:\n",
    "            # Once fertile spot is found start BFS\n",
    "            if self.land[y][x] == 0:\n",
    "                # add the land size found from bfs to the results\n",
    "                results.append(self.bfs(x, y))\n",
    "            # go row by row looking for a fertile spot\n",
    "            if x == self.x_max - 1:\n",
    "                x = 0\n",
    "                y += 1\n",
    "            else:\n",
    "                x += 1\n",
    "        # Displayed from smallest to largest\n",
    "        return sorted(results)\n",
    "\n",
    "    def bfs(self, x: int, y: int) -> int:\n",
    "        # queue to hold neighbor spaces\n",
    "        queue = deque()\n",
    "        # starting node, stored as a tuple (x,y)\n",
    "        queue.append((x, y))\n",
    "        # tracks the size of the fertile land\n",
    "        land_size = 0         \n",
    "\n",
    "        # while we have a queue\n",
    "        while queue:\n",
    "            # Take the most recent queue\n",
    "            node = queue.pop()\n",
    "            # Assign the x and y value\n",
    "            x, y = node\n",
    "            # if the land is fertile\n",
    "            if self.land[y][x] == 0:\n",
    "    \n",
    "                land_size += 1\n",
    "                # Mark that the land was visted\n",
    "                self.land[y][x] = 1\n",
    "\n",
    "                # Add neighbors to the queue if they're in boundaries\n",
    "                # and the the land is fertile\n",
    "                if x > 0 and self.land[y][x-1] == 0:\n",
    "                    queue.append((x-1, y))\n",
    "                if x < self.x_max - 1 and self.land[y][x+1] == 0:\n",
    "                    queue.append((x+1, y))\n",
    "                if y > 0 and self.land[y-1][x] == 0:\n",
    "                    queue.append((x, y-1))\n",
    "                if y < self.y_max - 1 and self.land[y+1][x] == 0:\n",
    "                    queue.append((x, y+1))\n",
    "        # Once all the land has been visted return the size\n",
    "        return land_size\n",
    "\n",
    "    def populate_barren_land(self): \n",
    "        for coords in self.coord_list:\n",
    "            for y in range(coords[\"y0\"], coords[\"y1\"]+1):\n",
    "                for x in range(coords[\"x0\"], coords[\"x1\"]+1):\n",
    "                    # Mark as barren\n",
    "                    self.land[y][x] = -1\n",
    "        \n",
    "    \n",
    "    def display_land(self):\n",
    "        # Set the colors for the visualization\n",
    "        cmap = colors.ListedColormap(['black','green'], \n",
    "                                     name='colors', N=None)\n",
    "        plt.imshow(self.land, cmap=cmap)\n",
    "        plt.ion()\n",
    "        plt.draw()\n",
    "        plt.pause(4.0)\n",
    "        plt.show()\n",
    "\n",
    "    @staticmethod\n",
    "    def build_coord_list(raw_coord_list: list) -> list:\n",
    "        coord_list = []\n",
    "        for coords in raw_coord_list:\n",
    "            coord_list.append(\n",
    "                {\n",
    "                    \"x0\": int(coords[0]),\n",
    "                    \"y0\": int(coords[1]),\n",
    "                    \"x1\": int(coords[2]),\n",
    "                    \"y1\": int(coords[3])\n",
    "                }\n",
    "            )\n",
    "        return coord_list"
   ]
  },
  {
   "cell_type": "code",
   "execution_count": 56,
   "metadata": {},
   "outputs": [
    {
     "name": "stdout",
     "output_type": "stream",
     "text": [
      "\n",
      "Process Time (ms): 839.671134948730469\n",
      "[116800, 116800]\n"
     ]
    },
    {
     "data": {
      "image/png": "[encoded data removed]",
      "text/plain": [
       "<Figure size 432x288 with 1 Axes>"
      ]
     },
     "metadata": {
      "needs_background": "light"
     },
     "output_type": "display_data"
    }
   ],
   "source": [
    "start = time()\n",
    "bfs = BarrenLandBFS(test1,400, 600)\n",
    "result = bfs.find_fertile_areas()\n",
    "end = time()\n",
    "print(\"\\nProcess Time (ms): {0:.15f}\".format((end - start)*1000))\n",
    "print(result)\n",
    "bfs.display_land()"
   ]
  },
  {
   "cell_type": "code",
   "execution_count": 57,
   "metadata": {},
   "outputs": [
    {
     "name": "stdout",
     "output_type": "stream",
     "text": [
      "\n",
      "Process Time (ms): 832.480907440185547\n",
      "[22816, 192608]\n"
     ]
    },
    {
     "data": {
      "image/png": "[encoded data removed]",
      "text/plain": [
       "<Figure size 432x288 with 1 Axes>"
      ]
     },
     "metadata": {
      "needs_background": "light"
     },
     "output_type": "display_data"
    }
   ],
   "source": [
    "start = time()\n",
    "bfs = BarrenLandBFS(test2,400, 600)\n",
    "result = bfs.find_fertile_areas()\n",
    "end = time()\n",
    "print(\"\\nProcess Time (ms): {0:.15f}\".format((end - start)*1000))\n",
    "print(result)\n",
    "bfs.display_land()"
   ]
  },
  {
   "cell_type": "code",
   "execution_count": null,
   "metadata": {},
   "outputs": [],
   "source": []
  }
 ],
 "metadata": {
  "kernelspec": {
   "display_name": "Python 3",
   "language": "python",
   "name": "python3"
  },
  "language_info": {
   "codemirror_mode": {
    "name": "ipython",
    "version": 3
   },
   "file_extension": ".py",
   "mimetype": "text/x-python",
   "name": "python",
   "nbconvert_exporter": "python",
   "pygments_lexer": "ipython3",
   "version": "3.7.3"
  }
 },
 "nbformat": 4,
 "nbformat_minor": 2
}
